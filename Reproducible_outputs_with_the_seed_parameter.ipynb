{
 "cells": [
  {
   "cell_type": "markdown",
   "metadata": {
    "cell_id": "67bb097e130b41099c9d257dc06a4054",
    "deepnote_cell_type": "markdown"
   },
   "source": [
    "# How to make your completions outputs reproducible with the new seed parameter\n",
    "\n",
    "**TLDR**: Developers can now specify `seed` parameter in the Chat Completion request to receive (mostly) consistent outputs. To help you keep track of these changes, we expose the `system_fingerprint` field. If this value is different, you may see different outputs due to changes we've made on our systems. Please note that this feature is in beta and only currently supported for `gpt-4-1106-preview` and `gpt-3.5-turbo-1106`.\n",
    "\n",
    "### Context\n",
    "\n",
    "Reproducibility has always been a big request from user communities when using our APIs. For instance, when granted the capability of getting reproducible numerical result, users can unlock quite a bit of use cases that’s sensitive to numerical changes.\n",
    "\n",
    "#### Model level features for consistent outputs\n",
    "\n",
    "The Chat Completions and Completions APIs are non-deterministic by default (which means model outputs may differ from request to request), but now offer some control towards deterministic outputs using a few model level controls.\n",
    "\n",
    "This can unlock consistent completions which enables full control on the model behaviors for anything built on top of the APIs, and quite useful for reproducing results and testing so you know get peace of mind from knowing exactly what you’d get.\n",
    "\n",
    "#### Implementing consistent outputs\n",
    "\n",
    "To receive _mostly_ deterministic outputs across API calls:\n",
    "\n",
    "- Set the `seed` parameter to any integer of your choice, but use the same value across requests. For example, `12345`.\n",
    "- Set all other parameters (prompt, temperature, top_p, etc.) to the same values across requests.\n",
    "- In the response, check the `system_fingerprint` field. The system fingerprint is an identifier for the current combination of model weights, infrastructure, and other configuration options used by OpenAI servers to generate the completion. It changes whenever you change request parameters, or OpenAI updates numerical configuration of the infrastructure serving our models (which may happen a few times a year).\n",
    "\n",
    "If the `seed`, request parameters, and `system_fingerprint` all match across your requests, then model outputs will mostly be identical. There is a small chance that responses differ even when request parameters and `system_fingerprint` match, due to the inherent non-determinism of our models.\n"
   ]
  },
  {
   "cell_type": "markdown",
   "metadata": {
    "cell_id": "f49611fa59af4303883d76c491095fea",
    "deepnote_cell_type": "markdown"
   },
   "source": [
    "### Model level controls for consistent outputs - `seed` and `system_fingerprint`\n",
    "\n",
    "##### `seed`\n",
    "\n",
    "If specified, our system will make a best effort to sample deterministically, such that repeated requests with the same seed and parameters should return the same result. Determinism is not guaranteed, and you should refer to the `system_fingerprint` response parameter to monitor changes in the backend.\n",
    "\n",
    "##### `system_fingerprint`\n",
    "\n",
    "This fingerprint represents the backend configuration that the model runs with. It can be used in conjunction with the seed request parameter to understand when backend changes have been made that might impact determinism.This is the indicator on whether users should expect \"almost always the same result\".\n"
   ]
  },
  {
   "cell_type": "markdown",
   "metadata": {
    "cell_id": "cc6cd37b9a2243aaa4688ef8832512eb",
    "deepnote_cell_type": "markdown"
   },
   "source": [
    "## Example: Generating a short excerpt with a fixed seed\n",
    "\n",
    "In this example, we will demonstrate how to generate a short excerpt using a fixed seed. This can be particularly useful in scenarios where you need to generate consistent results for testing, debugging, or for applications that require consistent outputs."
   ]
  },
  {
   "cell_type": "markdown",
   "metadata": {},
   "source": [
    "### Python SDK\n",
    "\n",
    "NOTE: You will need to install the following modules: plotly"
   ]
  },
  {
   "cell_type": "code",
   "execution_count": 1,
   "metadata": {
    "cell_id": "48fd2d4c95ad465090ef97254a4a10d2",
    "deepnote_cell_type": "code"
   },
   "outputs": [],
   "source": [
    "import openai\n",
    "import asyncio\n",
    "from IPython.display import display, HTML\n",
    "\n",
    "from embeddings_utils import (\n",
    "    get_embedding,\n",
    "    distances_from_embeddings\n",
    ")\n",
    "\n",
    "GPT_MODEL = \"gpt-4o-mini\""
   ]
  },
  {
   "cell_type": "code",
   "execution_count": 2,
   "metadata": {
    "cell_id": "e54e0958be3746d39b6e4c16c59b395a",
    "deepnote_cell_type": "code",
    "deepnote_to_be_reexecuted": false,
    "execution_millis": 5,
    "execution_start": 1699034108287,
    "source_hash": null
   },
   "outputs": [],
   "source": [
    "async def get_chat_response(\n",
    "    system_message: str, user_request: str, seed: int = None, temperature: float = 0.7\n",
    "):\n",
    "    try:\n",
    "        messages = [\n",
    "            {\"role\": \"developer\", \"content\": system_message},\n",
    "            {\"role\": \"user\", \"content\": user_request},\n",
    "        ]\n",
    "\n",
    "        response = openai.chat.completions.create(\n",
    "            model=GPT_MODEL,\n",
    "            messages=messages,\n",
    "            seed=seed,\n",
    "            max_tokens=200,\n",
    "            temperature=temperature,\n",
    "        )\n",
    "\n",
    "        response_content = response.choices[0].message.content\n",
    "        system_fingerprint = response.system_fingerprint\n",
    "        prompt_tokens = response.usage.prompt_tokens\n",
    "        completion_tokens = response.usage.total_tokens - response.usage.prompt_tokens\n",
    "\n",
    "        table = f\"\"\"\n",
    "        <table>\n",
    "        <tr><th>Response</th><td>{response_content}</td></tr>\n",
    "        <tr><th>System Fingerprint</th><td>{system_fingerprint}</td></tr>\n",
    "        <tr><th>Number of prompt tokens</th><td>{prompt_tokens}</td></tr>\n",
    "        <tr><th>Number of completion tokens</th><td>{completion_tokens}</td></tr>\n",
    "        </table>\n",
    "        \"\"\"\n",
    "        display(HTML(table))\n",
    "\n",
    "        return response_content\n",
    "    except Exception as e:\n",
    "        print(f\"An error occurred: {e}\")\n",
    "        return None\n",
    "\n",
    "def calculate_average_distance(responses):\n",
    "    \"\"\"\n",
    "    This function calculates the average distance between the embeddings of the responses.\n",
    "    The distance between embeddings is a measure of how similar the responses are.\n",
    "    \"\"\"\n",
    "    # Calculate embeddings for each response\n",
    "    response_embeddings = [get_embedding(response) for response in responses]\n",
    "\n",
    "    # Compute distances between the first response and the rest\n",
    "    distances = distances_from_embeddings(response_embeddings[0], response_embeddings[1:])\n",
    "\n",
    "    # Calculate the average distance\n",
    "    average_distance = sum(distances) / len(distances)\n",
    "\n",
    "    # Return the average distance\n",
    "    return average_distance"
   ]
  },
  {
   "cell_type": "markdown",
   "metadata": {
    "cell_id": "dfa39a438aa948cc910a46254df937af",
    "deepnote_cell_type": "text-cell-p",
    "formattedRanges": []
   },
   "source": [
    "First, let's try generating few different versions of a short excerpt about \"a journey to Mars\" without the `seed` parameter. This is the default behavior:"
   ]
  },
  {
   "cell_type": "code",
   "execution_count": null,
   "metadata": {
    "cell_id": "9d09f63309c449e4929364caccfd7065",
    "deepnote_cell_type": "code",
    "deepnote_to_be_reexecuted": false,
    "execution_millis": 964,
    "execution_start": 1699034108745,
    "source_hash": null
   },
   "outputs": [
    {
     "name": "stdout",
     "output_type": "stream",
     "text": [
      "Output 1\n",
      "----------\n"
     ]
    },
    {
     "data": {
      "text/html": [
       "\n",
       "        <table>\n",
       "        <tr><th>Response</th><td>**Breaking News: Historic Journey to Mars Launches Today**\n",
       "\n",
       "Today marks a monumental step in human exploration as NASA's Perseverance II spacecraft has officially launched from Cape Canaveral, embarking on an ambitious journey to Mars. The spacecraft, equipped with advanced technology and a crew of four seasoned astronauts, aims to not only reach the Red Planet but also to conduct groundbreaking research on its surface.\n",
       "\n",
       "The launch took place at 8:30 AM ET, and the spacecraft is set to arrive at Mars in approximately six months. During their mission, the crew will investigate signs of past microbial life, collect soil samples, and test new technologies for future human habitation.\n",
       "\n",
       "NASA Administrator Dr. Sarah Johnson stated, \"This mission is not just about reaching Mars; it's about paving the way for humanity's future in space. We are on the brink of a new era in exploration.\"\n",
       "\n",
       "As the world watches, the Perseverance II crew will face numerous challenges, including cosmic radiation and microgravity effects. Their journey promises</td></tr>\n",
       "        <tr><th>System Fingerprint</th><td>fp_06737a9306</td></tr>\n",
       "        <tr><th>Number of prompt tokens</th><td>29</td></tr>\n",
       "        <tr><th>Number of completion tokens</th><td>200</td></tr>\n",
       "        </table>\n",
       "        "
      ],
      "text/plain": [
       "<IPython.core.display.HTML object>"
      ]
     },
     "metadata": {},
     "output_type": "display_data"
    },
    {
     "name": "stdout",
     "output_type": "stream",
     "text": [
      "Output 2\n",
      "----------\n"
     ]
    },
    {
     "data": {
      "text/html": [
       "\n",
       "        <table>\n",
       "        <tr><th>Response</th><td>**Breaking News: Historic Journey to Mars Commences**\n",
       "\n",
       "In a monumental leap for space exploration, the crew of the Mars Endeavor launched from Cape Canaveral this morning, marking the beginning of humanity's first manned mission to the Red Planet. The spacecraft, equipped with cutting-edge technology and life-support systems, is expected to reach Mars in approximately six months.\n",
       "\n",
       "The mission aims to conduct extensive research on Martian soil and atmosphere, paving the way for future colonization efforts. Commander Sarah Lopez, a seasoned astronaut with multiple spaceflights under her belt, expressed her excitement before departure: “This is a momentous occasion not just for us, but for all of humanity. We are venturing into the unknown, pushing the boundaries of what we can achieve.”\n",
       "\n",
       "As the spacecraft ascended into the sky, thousands gathered at the launch site to witness the historic event, cheering as the rocket pierced through the clouds. The crew will conduct experiments and send back data that could unlock the mysteries of Mars and</td></tr>\n",
       "        <tr><th>System Fingerprint</th><td>fp_06737a9306</td></tr>\n",
       "        <tr><th>Number of prompt tokens</th><td>29</td></tr>\n",
       "        <tr><th>Number of completion tokens</th><td>200</td></tr>\n",
       "        </table>\n",
       "        "
      ],
      "text/plain": [
       "<IPython.core.display.HTML object>"
      ]
     },
     "metadata": {},
     "output_type": "display_data"
    },
    {
     "name": "stdout",
     "output_type": "stream",
     "text": [
      "Output 3\n",
      "----------\n"
     ]
    },
    {
     "data": {
      "text/html": [
       "\n",
       "        <table>\n",
       "        <tr><th>Response</th><td>**Title: Historic Journey to Mars Begins as Artemis II Launches**\n",
       "\n",
       "**Date: October 15, 2023**\n",
       "\n",
       "In a groundbreaking event for space exploration, NASA's Artemis II mission has officially launched, marking the beginning of humanity's first crewed journey to Mars. The spacecraft lifted off from Kennedy Space Center in Florida at 7:15 AM ET, carrying a diverse crew of four astronauts who will spend approximately six months in transit to the Red Planet.\n",
       "\n",
       "As the spacecraft ascended into the clear morning sky, cheers erupted from mission control and spectators gathered at the launch site. \"Today, we take another giant leap for mankind,\" said NASA Administrator Bill Nelson. \"This mission is not just about reaching Mars; it's about paving the way for future generations to explore beyond our home planet.\"\n",
       "\n",
       "The crew, consisting of seasoned astronauts and a new generation of space explorers, is equipped with advanced technology and life support systems designed for the long journey ahead. During their time in transit, they will conduct scientific</td></tr>\n",
       "        <tr><th>System Fingerprint</th><td>fp_06737a9306</td></tr>\n",
       "        <tr><th>Number of prompt tokens</th><td>29</td></tr>\n",
       "        <tr><th>Number of completion tokens</th><td>200</td></tr>\n",
       "        </table>\n",
       "        "
      ],
      "text/plain": [
       "<IPython.core.display.HTML object>"
      ]
     },
     "metadata": {},
     "output_type": "display_data"
    },
    {
     "name": "stdout",
     "output_type": "stream",
     "text": [
      "Output 4\n",
      "----------\n"
     ]
    },
    {
     "data": {
      "text/html": [
       "\n",
       "        <table>\n",
       "        <tr><th>Response</th><td>**Headline: Historic Journey to Mars Begins as SpaceX Launches Crew Mission**\n",
       "\n",
       "*October 15, 2023 - Cape Canaveral, FL* — In a groundbreaking leap for space exploration, SpaceX's Starship lifted off from Cape Canaveral today, embarking on the first crewed mission to Mars. The spacecraft, carrying a diverse team of six astronauts from various countries, aims to reach the Red Planet in approximately six months.\n",
       "\n",
       "NASA Administrator Bill Nelson hailed the launch as a \"new chapter in human exploration,\" emphasizing the mission's potential to unlock secrets of Mars and pave the way for future colonization. The crew, comprised of seasoned astronauts and scientists, will conduct a series of experiments and gather data to assess the planet's habitability.\n",
       "\n",
       "As the world watched the launch live, excitement buzzed in the air, with millions tuning in to witness this historic moment. The journey represents not only a technological triumph but also a step toward humanity's long-held dream of becoming a multi-</td></tr>\n",
       "        <tr><th>System Fingerprint</th><td>fp_06737a9306</td></tr>\n",
       "        <tr><th>Number of prompt tokens</th><td>29</td></tr>\n",
       "        <tr><th>Number of completion tokens</th><td>200</td></tr>\n",
       "        </table>\n",
       "        "
      ],
      "text/plain": [
       "<IPython.core.display.HTML object>"
      ]
     },
     "metadata": {},
     "output_type": "display_data"
    },
    {
     "name": "stdout",
     "output_type": "stream",
     "text": [
      "Output 5\n",
      "----------\n"
     ]
    },
    {
     "data": {
      "text/html": [
       "\n",
       "        <table>\n",
       "        <tr><th>Response</th><td>**Breaking News: Historic Journey to Mars Underway**\n",
       "\n",
       "*Date: October 15, 2023*\n",
       "\n",
       "In a groundbreaking achievement for space exploration, the crewed mission to Mars, named \"Ares Expedition,\" has officially launched from Kennedy Space Center. The spacecraft, equipped with cutting-edge technology and a diverse team of scientists and engineers, is set to begin a journey that will take approximately six months.\n",
       "\n",
       "The launch occurred at 3:00 PM EDT, with the Falcon Heavy rocket propelling the spacecraft beyond Earth's atmosphere. Astronauts Lisa Chen, Raj Patel, and Maria Gomez will be conducting experiments and preparing for the first human landing on the Martian surface.\n",
       "\n",
       "\"This is a monumental step for humanity,\" said Mission Commander Lisa Chen during a pre-launch press conference. \"We are not just reaching for the stars; we are expanding our horizons and paving the way for future generations to explore the cosmos.\"\n",
       "\n",
       "The mission aims to study Mars' geology and climate while searching for signs of past life. As</td></tr>\n",
       "        <tr><th>System Fingerprint</th><td>fp_06737a9306</td></tr>\n",
       "        <tr><th>Number of prompt tokens</th><td>29</td></tr>\n",
       "        <tr><th>Number of completion tokens</th><td>200</td></tr>\n",
       "        </table>\n",
       "        "
      ],
      "text/plain": [
       "<IPython.core.display.HTML object>"
      ]
     },
     "metadata": {},
     "output_type": "display_data"
    },
    {
     "name": "stdout",
     "output_type": "stream",
     "text": [
      "The average similarity between responses is: 0.199493914431053\n"
     ]
    }
   ],
   "source": [
    "topic = \"a journey to Mars\"\n",
    "system_message = \"You are a helpful assistant.\"\n",
    "user_request = f\"Generate a short excerpt of news about {topic}.\"\n",
    "\n",
    "responses = []\n",
    "\n",
    "\n",
    "async def get_response(i):\n",
    "    print(f'Output {i + 1}\\n{\"-\" * 10}')\n",
    "    response = await get_chat_response(\n",
    "        system_message=system_message, user_request=user_request\n",
    "    )\n",
    "    return response\n",
    "\n",
    "\n",
    "responses = await asyncio.gather(*[get_response(i) for i in range(5)])\n",
    "average_distance = calculate_average_distance(responses)\n",
    "print(f\"The average distance between responses is: {average_distance}\")"
   ]
  },
  {
   "cell_type": "markdown",
   "metadata": {
    "cell_id": "e7eaf30e13ac4841b11dcffc505379c1",
    "deepnote_cell_type": "markdown"
   },
   "source": [
    "Now, let's try to tun the same code with a constant `seed` of 123 and `temperature` of 0 and compare the responses and `system_fingerprint`."
   ]
  },
  {
   "cell_type": "code",
   "execution_count": 4,
   "metadata": {
    "cell_id": "a5754b8ef4074cf7adb479d44bebd97b",
    "deepnote_cell_type": "code"
   },
   "outputs": [
    {
     "name": "stdout",
     "output_type": "stream",
     "text": [
      "Output 1\n",
      "----------\n"
     ]
    },
    {
     "data": {
      "text/html": [
       "\n",
       "        <table>\n",
       "        <tr><th>Response</th><td>**Headline: Historic Journey to Mars Begins as SpaceX Launches Crew on Ambitious Mission**\n",
       "\n",
       "*Date: October 15, 2023*\n",
       "\n",
       "In a groundbreaking event for space exploration, SpaceX successfully launched its first crewed mission to Mars early this morning. The Falcon Star rocket, carrying a team of six astronauts, lifted off from Cape Canaveral at 7:45 AM EDT, marking a significant milestone in humanity's quest to explore the Red Planet.\n",
       "\n",
       "The crew, comprised of scientists, engineers, and medical experts from around the globe, is set to embark on a six-month journey to Mars, where they will conduct extensive research and experiments aimed at understanding the planet's geology and potential for future colonization. The mission, dubbed \"Mars Horizon,\" aims to pave the way for sustainable human presence on Mars by 2030.\n",
       "\n",
       "As the spacecraft ascended into the sky, cheers erupted from the control room and thousands of spectators gathered at the launch site. \"Today, we take a</td></tr>\n",
       "        <tr><th>System Fingerprint</th><td>fp_06737a9306</td></tr>\n",
       "        <tr><th>Number of prompt tokens</th><td>29</td></tr>\n",
       "        <tr><th>Number of completion tokens</th><td>200</td></tr>\n",
       "        </table>\n",
       "        "
      ],
      "text/plain": [
       "<IPython.core.display.HTML object>"
      ]
     },
     "metadata": {},
     "output_type": "display_data"
    },
    {
     "name": "stdout",
     "output_type": "stream",
     "text": [
      "Output 2\n",
      "----------\n"
     ]
    },
    {
     "data": {
      "text/html": [
       "\n",
       "        <table>\n",
       "        <tr><th>Response</th><td>**Headline: Historic Journey to Mars Begins as SpaceX Launches Crew on Ambitious Mission**\n",
       "\n",
       "*Date: October 15, 2023*\n",
       "\n",
       "In a groundbreaking event for space exploration, SpaceX successfully launched its first crewed mission to Mars early this morning. The Falcon Star rocket, carrying a team of six astronauts, lifted off from Cape Canaveral Space Force Station at 7:45 AM EDT, marking a significant milestone in humanity's quest to explore the Red Planet.\n",
       "\n",
       "The crew, comprised of scientists, engineers, and a medical doctor, is set to spend approximately nine months in transit before landing on Martian soil. Their mission aims to conduct extensive research on Mars' geology and climate, as well as to test technologies for future colonization efforts.\n",
       "\n",
       "As the spacecraft ascended into the sky, cheers erupted from the control center, where engineers and mission specialists monitored every phase of the launch. \"This is not just a journey to Mars; it's a journey for all of humanity,\" said</td></tr>\n",
       "        <tr><th>System Fingerprint</th><td>fp_06737a9306</td></tr>\n",
       "        <tr><th>Number of prompt tokens</th><td>29</td></tr>\n",
       "        <tr><th>Number of completion tokens</th><td>200</td></tr>\n",
       "        </table>\n",
       "        "
      ],
      "text/plain": [
       "<IPython.core.display.HTML object>"
      ]
     },
     "metadata": {},
     "output_type": "display_data"
    },
    {
     "name": "stdout",
     "output_type": "stream",
     "text": [
      "Output 3\n",
      "----------\n"
     ]
    },
    {
     "data": {
      "text/html": [
       "\n",
       "        <table>\n",
       "        <tr><th>Response</th><td>**Headline: Historic Journey to Mars Begins as SpaceX Launches Crew on Ambitious Mission**\n",
       "\n",
       "*Date: October 15, 2023*\n",
       "\n",
       "In a groundbreaking event for space exploration, SpaceX successfully launched its first crewed mission to Mars early this morning. The Falcon Star rocket, carrying a team of six astronauts, lifted off from Cape Canaveral at 7:45 AM EDT, marking a significant milestone in humanity's quest to explore the Red Planet.\n",
       "\n",
       "The crew, comprised of scientists, engineers, and medical experts from around the globe, is set to embark on a six-month journey to Mars, where they will conduct extensive research and experiments aimed at understanding the planet's geology and potential for future colonization. The mission, dubbed \"Mars Horizon,\" aims to pave the way for sustainable human presence on Mars by 2030.\n",
       "\n",
       "As the spacecraft ascended into the sky, cheers erupted from the control center and thousands of spectators gathered at the launch site. \"Today, we take a</td></tr>\n",
       "        <tr><th>System Fingerprint</th><td>fp_06737a9306</td></tr>\n",
       "        <tr><th>Number of prompt tokens</th><td>29</td></tr>\n",
       "        <tr><th>Number of completion tokens</th><td>200</td></tr>\n",
       "        </table>\n",
       "        "
      ],
      "text/plain": [
       "<IPython.core.display.HTML object>"
      ]
     },
     "metadata": {},
     "output_type": "display_data"
    },
    {
     "name": "stdout",
     "output_type": "stream",
     "text": [
      "Output 4\n",
      "----------\n"
     ]
    },
    {
     "data": {
      "text/html": [
       "\n",
       "        <table>\n",
       "        <tr><th>Response</th><td>**Headline: Historic Journey to Mars Begins as SpaceX Launches Crew on Ambitious Mission**\n",
       "\n",
       "*Date: October 15, 2023*\n",
       "\n",
       "In a groundbreaking event for space exploration, SpaceX successfully launched its crewed mission to Mars early this morning from the Kennedy Space Center in Florida. The Falcon Star rocket, carrying a team of six astronauts, lifted off at 7:45 AM EDT, marking the beginning of a journey that aims to establish a sustainable human presence on the Red Planet.\n",
       "\n",
       "The crew, comprised of scientists, engineers, and medical experts from around the globe, will spend approximately nine months in transit before landing on Martian soil. Their mission includes conducting experiments, testing life support systems, and exploring potential sites for future colonization.\n",
       "\n",
       "\"Today, we take a giant leap for humanity,\" said SpaceX CEO Elon Musk during a pre-launch press conference. \"This mission is not just about reaching Mars; it's about paving the way for future generations to live and thrive beyond Earth.\"\n",
       "\n",
       "</td></tr>\n",
       "        <tr><th>System Fingerprint</th><td>fp_06737a9306</td></tr>\n",
       "        <tr><th>Number of prompt tokens</th><td>29</td></tr>\n",
       "        <tr><th>Number of completion tokens</th><td>200</td></tr>\n",
       "        </table>\n",
       "        "
      ],
      "text/plain": [
       "<IPython.core.display.HTML object>"
      ]
     },
     "metadata": {},
     "output_type": "display_data"
    },
    {
     "name": "stdout",
     "output_type": "stream",
     "text": [
      "Output 5\n",
      "----------\n"
     ]
    },
    {
     "data": {
      "text/html": [
       "\n",
       "        <table>\n",
       "        <tr><th>Response</th><td>**Headline: Historic Journey to Mars Begins as SpaceX Launches Crew on Ambitious Mission**\n",
       "\n",
       "*Date: October 15, 2023*\n",
       "\n",
       "In a groundbreaking event for space exploration, SpaceX successfully launched its first crewed mission to Mars early this morning. The Falcon Star rocket, carrying a team of six astronauts, lifted off from Cape Canaveral at 7:45 AM EDT, marking a significant milestone in humanity's quest to explore the Red Planet.\n",
       "\n",
       "The crew, comprised of scientists, engineers, and medical experts from around the globe, is set to embark on a six-month journey to Mars, where they will conduct extensive research and experiments aimed at understanding the planet's geology and potential for future colonization. The mission, dubbed \"Mars Horizon,\" aims to lay the groundwork for sustainable human presence on Mars by 2030.\n",
       "\n",
       "As the spacecraft ascended into the sky, cheers erupted from the control center and thousands of spectators gathered at the launch site. \"Today, we take a</td></tr>\n",
       "        <tr><th>System Fingerprint</th><td>fp_06737a9306</td></tr>\n",
       "        <tr><th>Number of prompt tokens</th><td>29</td></tr>\n",
       "        <tr><th>Number of completion tokens</th><td>200</td></tr>\n",
       "        </table>\n",
       "        "
      ],
      "text/plain": [
       "<IPython.core.display.HTML object>"
      ]
     },
     "metadata": {},
     "output_type": "display_data"
    },
    {
     "name": "stdout",
     "output_type": "stream",
     "text": [
      "The average distance between responses is: 0.02097385341605046\n"
     ]
    }
   ],
   "source": [
    "SEED = 123\n",
    "responses = []\n",
    "\n",
    "\n",
    "async def get_response(i):\n",
    "    print(f'Output {i + 1}\\n{\"-\" * 10}')\n",
    "    response = await get_chat_response(\n",
    "        system_message=system_message,\n",
    "        seed=SEED,\n",
    "        temperature=0,\n",
    "        user_request=user_request,\n",
    "    )\n",
    "    return response\n",
    "\n",
    "\n",
    "responses = await asyncio.gather(*[get_response(i) for i in range(5)])\n",
    "\n",
    "average_distance = calculate_average_distance(responses)\n",
    "print(f\"The average distance between responses is: {average_distance}\")"
   ]
  },
  {
   "cell_type": "markdown",
   "metadata": {},
   "source": [
    "As we can observe, the `seed` parameter allows us to generate much more consistent results."
   ]
  },
  {
   "cell_type": "markdown",
   "metadata": {
    "cell_id": "f6c8ae9a6e29451baaeb52b7203fbea8",
    "deepnote_cell_type": "markdown"
   },
   "source": [
    "## Conclusion\n",
    "\n",
    "We demonstrated how to use a fixed integer `seed` to generate consistent outputs from our model. This is particularly useful in scenarios where reproducibility is important. However, it's important to note that while the `seed` ensures consistency, it does not guarantee the quality of the output. Note that when you want to use reproducible outputs, you need to set the `seed` to the same integer across Chat Completions calls. You should also match any other parameters like `temperature`, `max_tokens` etc. Further extension of reproducible outputs could be to use consistent `seed` when benchmarking/evaluating the performance of different prompts or models, to ensure that each version is evaluated under the same conditions, making the comparisons fair and the results reliable."
   ]
  }
 ],
 "metadata": {
  "deepnote": {},
  "deepnote_execution_queue": [],
  "deepnote_notebook_id": "90ee66ed8ee74f0dad849c869f1da806",
  "kernelspec": {
   "display_name": "openai_api_2025",
   "language": "python",
   "name": "python3"
  },
  "language_info": {
   "codemirror_mode": {
    "name": "ipython",
    "version": 3
   },
   "file_extension": ".py",
   "mimetype": "text/x-python",
   "name": "python",
   "nbconvert_exporter": "python",
   "pygments_lexer": "ipython3",
   "version": "3.13.2"
  }
 },
 "nbformat": 4,
 "nbformat_minor": 0
}
