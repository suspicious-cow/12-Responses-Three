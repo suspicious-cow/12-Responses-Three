{
 "cells": [
  {
   "cell_type": "markdown",
   "metadata": {},
   "source": [
    "# Responses Three \n",
    "\n",
    "## Basic Connection and Packages\n",
    "\n",
    "### Importing OpenAI and Initializing the Client\n",
    "\n",
    "To begin, we'll import the `OpenAI` class from the `openai` library, which allows us to interact with the OpenAI API. Next, we initialize a client instance, which we'll use to send requests and receive responses from the OpenAI models."
   ]
  },
  {
   "cell_type": "code",
   "execution_count": 1,
   "metadata": {},
   "outputs": [],
   "source": [
    "\"\"\"\n",
    "This script is a simple example of using the OpenAI API\n",
    "It uses the OpenAI Python client library to open a connection to the OpenAI API.\n",
    "This also looks for the OPENAI_API_KEY environment variable to authenticate the client.\n",
    "\"\"\"\n",
    "from openai import OpenAI\n",
    "\n",
    "client = OpenAI()"
   ]
  },
  {
   "cell_type": "markdown",
   "metadata": {},
   "source": [
    "### Adding User, Store, and Metadata Parameters for Enhanced Tracking\n",
    "\n",
    "In this example, we use additional parameters—`user`, `store`, and `metadata`—with the OpenAI API. These parameters provide ways to track and organize your API interactions:\n",
    "\n",
    "- **`user`**: Assigns an identifier (`\"user_id_123\"`) to associate completions with a specific user.\n",
    "- **`store`**: Indicates (`True`) that the API should retain the interaction, allowing later retrieval or analysis.\n",
    "- **`metadata`**: Adds custom structured data (such as project details, audience age, priority, and genre) to help categorize or filter interactions within your application or analytics pipeline.\n",
    "\n",
    "**Note:** The `store` parameter must be set to `True` in order to use the `metadata` parameter.\n"
   ]
  },
  {
   "cell_type": "code",
   "execution_count": 2,
   "metadata": {},
   "outputs": [
    {
     "name": "stdout",
     "output_type": "stream",
     "text": [
      "Once upon a time, in a lush green forest filled with shimmering streams and blooming flowers, there lived a little frog named Freddie. Freddie wasn’t just any ordinary frog; he had the brightest emerald green skin and the most curious yellow eyes that sparkled like tiny stars. Every day, he would leap from lily pad to lily pad, exploring the world around him and making friends with the butterflies and dragonflies that danced in the warm sunlight. Freddie loved to share stories of brave adventures and magical places, his voice a cheerful croak that echoed through the trees.\n",
      "\n",
      "One sunny morning, as Freddie perched on his favorite lily pad, he spotted a dazzling rainbow stretching across the sky. \"I wonder where that rainbow goes,\" he thought, his heart fluttering with excitement. Deciding to embark on a new adventure, Freddie hopped toward the edge of the pond, ready to follow the colorful arc and see what treasures it held. Along the way, he met a wise old turtle named Tilly, who told him tales of the hidden wonders at the end of rainbows. Together, they decided to set off on the adventure of a lifetime, filled with laughter, friendship, and a sprinkle of magic."
     ]
    }
   ],
   "source": [
    "\"\"\"\n",
    "This script shows how to use the OpenAI API to generate text completions.\n",
    "We add the user, store, and metadata parameters to set values that we can use later.\n",
    "\"\"\"\n",
    "\n",
    "stream = client.responses.create(\n",
    "    model=\"gpt-4o-mini\",\n",
    "    input=[\n",
    "        {\"role\": \"developer\", \"content\": \"You are a brilliant author of children's books.\"},\n",
    "        {\"role\": \"user\", \"content\": \"Write two paragraphs about a frog.\"}\n",
    "    ],\n",
    "    text=None,  \n",
    "    temperature=None,\n",
    "    max_output_tokens=None, \n",
    "    top_p=None, \n",
    "    stream=True,\n",
    "    user=\"user_id_123\",\n",
    "    store=True,\n",
    "    metadata={\n",
    "        \"project\": \"Frog Adventures Book Series\",\n",
    "        \"audience_age\": \"5-8\",\n",
    "        \"priority\": \"medium\",\n",
    "        \"genre\": \"educational fiction\"\n",
    "    },\n",
    ")\n",
    "\n",
    "for event in stream:\n",
    "    if event.type == \"response.output_text.delta\":\n",
    "        print(event.delta, end=\"\", flush=True)  # Print text deltas as they arrive"
   ]
  },
  {
   "cell_type": "markdown",
   "metadata": {},
   "source": [
    "## Showing the User and Metadata information\n",
    "\n",
    "- **Streaming Real-Time Text Output:**  \n",
    "  The AI streams generated text incrementally, ideal for interactive or real-time applications (in this case, children's book content).\n",
    "\n",
    "- **User Identification and Metadata Tracking:**  \n",
    "  The response includes explicit identifiers:\n",
    "  - **User ID** (`user_id_123`): Clearly identifies the user requesting the generation.\n",
    "  - **Metadata**: Rich context about the content, including:\n",
    "    - **Project**: \"Frog Adventures Book Series\"\n",
    "    - **Audience Age**: \"5-8\"\n",
    "    - **Priority**: \"medium\"\n",
    "    - **Genre**: \"educational fiction\"\n",
    "\n",
    "  Displaying this information at the start and end of the response aids in:\n",
    "  - Easy debugging and auditing.\n",
    "  - Enhanced content tracking and management.\n",
    "  - Understanding context and usage patterns across users and projects.\n",
    "\n",
    "### Event Handling Explained:\n",
    "\n",
    "- **`response.created` Event**:  \n",
    "  Triggered at the start of the streaming process, explicitly logging:\n",
    "  - User ID.\n",
    "  - Complete metadata details for context.\n",
    "\n",
    "- **`response.output_text.delta` Event**:  \n",
    "  Outputs each chunk of generated text immediately, providing a responsive user experience.\n",
    "\n",
    "- **`response.completed` Event**:  \n",
    "  Marks the conclusion of the response stream, again clearly displaying:\n",
    "  - User ID.\n",
    "  - Metadata for reference and archival purposes.\n",
    "\n",
    "This combination ensures a highly interactive user experience with clear, structured metadata tracking to support project management and analytics.\n"
   ]
  },
  {
   "cell_type": "code",
   "execution_count": 5,
   "metadata": {},
   "outputs": [
    {
     "name": "stdout",
     "output_type": "stream",
     "text": [
      "\n",
      "[Response Created Event]\n",
      "User ID: user_id_123\n",
      "Metadata: {'project': 'Frog Adventures Book Series', 'audience_age': '5-8', 'priority': 'medium', 'genre': 'educational fiction'}\n",
      "Once upon a time, in a green, lush meadow beside a glittering pond, there lived a cheerful little frog named Freddie. With his bright green skin speckled with tiny spots, Freddie was known for his joyful croaks that echoed through the air. Each morning, he would hop from lily pad to lily pad, his big round eyes twinkling with mischief as he greeted the buzzing dragonflies and fluttering butterflies that danced around him. He loved to play hide-and-seek with his friends, leaping behind reeds and splashing in the cool water, always bursting with energy and laughter.\n",
      "\n",
      "One sunny day, as Freddie was practicing his greatest leap yet, he noticed a tiny voice calling for help. It was a little turtle named Tilly, stuck between two rocks by the pond's edge. With a determined smile, Freddie leaped into action! He hopped over to Tilly and encouraged her to wiggle until she freed herself. Together, they celebrated by having a splash party, inviting all the other pond critters to join in on the fun. From that day on, Freddie and Tilly became the best of friends, proving that with a little kindness and teamwork, any problem could be solved—just like the hopping adventures they would share along the shimmering pond.\n",
      "[Response Completed Event]\n",
      "User ID: user_id_123\n",
      "Metadata: {'project': 'Frog Adventures Book Series', 'audience_age': '5-8', 'priority': 'medium', 'genre': 'educational fiction'}\n"
     ]
    }
   ],
   "source": [
    "stream = client.responses.create(\n",
    "    model=\"gpt-4o-mini\",\n",
    "    input=[\n",
    "        {\"role\": \"developer\", \"content\": \"You are a brilliant author of children's books.\"},\n",
    "        {\"role\": \"user\", \"content\": \"Write two paragraphs about a frog.\"}\n",
    "    ],\n",
    "    text=None,  \n",
    "    temperature=None,\n",
    "    max_output_tokens=None, \n",
    "    top_p=None, \n",
    "    stream=True,\n",
    "    user=\"user_id_123\",\n",
    "    store=True,\n",
    "    metadata={\n",
    "        \"project\": \"Frog Adventures Book Series\",\n",
    "        \"audience_age\": \"5-8\",\n",
    "        \"priority\": \"medium\",\n",
    "        \"genre\": \"educational fiction\"\n",
    "    },\n",
    ")\n",
    "\n",
    "for event in stream:\n",
    "    # Print the text output as it streams\n",
    "    if event.type == \"response.output_text.delta\":\n",
    "        print(event.delta, end=\"\", flush=True)\n",
    "    \n",
    "    # Show user and metadata when the response is created\n",
    "    elif event.type == \"response.created\":\n",
    "        print(\"\\n[Response Created Event]\")\n",
    "        print(f\"User ID: {event.response.user}\")\n",
    "        print(f\"Metadata: {event.response.metadata}\")\n",
    "    \n",
    "    # Optionally, show user and metadata when the response is completed\n",
    "    elif event.type == \"response.completed\":\n",
    "        print(\"\\n[Response Completed Event]\")\n",
    "        print(f\"User ID: {event.response.user}\")\n",
    "        print(f\"Metadata: {event.response.metadata}\")"
   ]
  }
 ],
 "metadata": {
  "kernelspec": {
   "display_name": "openai_api_2025",
   "language": "python",
   "name": "python3"
  },
  "language_info": {
   "codemirror_mode": {
    "name": "ipython",
    "version": 3
   },
   "file_extension": ".py",
   "mimetype": "text/x-python",
   "name": "python",
   "nbconvert_exporter": "python",
   "pygments_lexer": "ipython3",
   "version": "3.13.2"
  }
 },
 "nbformat": 4,
 "nbformat_minor": 2
}
